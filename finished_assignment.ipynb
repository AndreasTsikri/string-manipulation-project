{
 "cells": [
  {
   "cell_type": "markdown",
   "id": "11973020-4e86-4334-bd56-7126cfff5088",
   "metadata": {},
   "source": [
    "## 1)Write a for loop to compute the sum of all numbers below 1000 that are a multiple of either 3 or5.\n",
    "## 2)Write a while loop to compute the sum of all numbers below 1000 that are a multiple of either 3or 5"
   ]
  },
  {
   "cell_type": "code",
   "execution_count": 1,
   "id": "c979b49d-550f-4649-8949-5bb1de809d35",
   "metadata": {},
   "outputs": [],
   "source": [
    "###code###"
   ]
  },
  {
   "cell_type": "code",
   "execution_count": 2,
   "id": "c6de673d-8cbf-4336-b4c2-054abe16b2f5",
   "metadata": {},
   "outputs": [
    {
     "name": "stdout",
     "output_type": "stream",
     "text": [
      "the sum of all numbers below 1000 is :\n",
      " 233168\n"
     ]
    }
   ],
   "source": [
    "\n",
    "sum=0\n",
    "for i in range(1000):    \n",
    "    if (i%3)==0 or (i%5)==0:\n",
    "        #print(i)\n",
    "        sum=sum+i\n",
    "print(f'the sum of all numbers below 1000 is :\\n {sum}')"
   ]
  },
  {
   "cell_type": "code",
   "execution_count": 3,
   "id": "9ff6dfa4-435f-4d0a-b69f-ae87ce04bfdf",
   "metadata": {},
   "outputs": [
    {
     "name": "stdout",
     "output_type": "stream",
     "text": [
      "the sum of all numbers below 1000 is :\n",
      " 233168\n"
     ]
    }
   ],
   "source": [
    "sum=0\n",
    "i=0\n",
    "while i<1000:\n",
    "    if (i%3)==0 or (i%5)==0:\n",
    "        #print(i)\n",
    "        sum=sum+i\n",
    "    i+=1\n",
    "print(f'the sum of all numbers below 1000 is :\\n {sum}')"
   ]
  },
  {
   "cell_type": "markdown",
   "id": "0277391d-7332-4755-af01-607b6266844f",
   "metadata": {},
   "source": [
    "## 3)[Assignment on control structures]For example, in the number 14352, the largest product of 2 adjacent digits (the maximum of productof two consecutive numbers) is 3*5 = 15. Write python code to compute the largest product of 4consecutive numbers from a 100-digit number given below.\n",
    "hundred_digit_str = ’731671765313306249192251 ’ \\’196744265747423553491949349 ’ \\’6983520312774506326239578318 ’ \\’016984801869478851843 ’\n",
    "hundred_digit_number = int(hundred_digit_str)\n",
    "print(hundred_digit_number)"
   ]
  },
  {
   "cell_type": "code",
   "execution_count": 4,
   "id": "ea442435-8ce0-44ad-93c9-7862fb1c7835",
   "metadata": {},
   "outputs": [],
   "source": [
    "###code###"
   ]
  },
  {
   "cell_type": "code",
   "execution_count": 5,
   "id": "c15a10a8-6990-48ce-8203-d75e84b5d603",
   "metadata": {},
   "outputs": [
    {
     "name": "stdout",
     "output_type": "stream",
     "text": [
      "4\n",
      "12\n",
      "15\n",
      "10\n",
      "max product of two adjacent numbers are: 15\n"
     ]
    }
   ],
   "source": [
    "n='14352'\n",
    "max_product=0\n",
    "for i in range(len(n)):\n",
    "    if i!=(len(n)-1):\n",
    "        prod=int(n[i])*int(n[i+1])\n",
    "        print(prod)\n",
    "        if prod>max_product:\n",
    "            max_product=prod\n",
    "\n",
    "print(f'max product of two adjacent numbers are: {max_product}')\n",
    "    "
   ]
  },
  {
   "cell_type": "code",
   "execution_count": 6,
   "id": "ec859d2c-9efa-43af-9b0b-aa43868cf5fd",
   "metadata": {},
   "outputs": [],
   "source": [
    "def find_max_product(n):\n",
    "    if type(n)!=str:\n",
    "        #print('transforming to string')\n",
    "        n=str(n)        \n",
    "    max_product=0\n",
    "    for i in range(len(n)):\n",
    "        if i==(len(n)-1):\n",
    "            break\n",
    "        prod=int(n[i])*int(n[i+1])       \n",
    "        if prod>max_product:\n",
    "            max_product=prod\n",
    "    return max_product\n",
    "\n",
    "def find_max_product_4_adjacents(n):\n",
    "    if type(n)!=str:\n",
    "        #print('transforming to string')\n",
    "        n=str(n)        \n",
    "    max_product=0\n",
    "    for i in range(len(n)):\n",
    "        if i==(len(n)-3):\n",
    "            break\n",
    "        prod=int(n[i])*int(n[i+1])*int(n[i+2])*int(n[i+3])\n",
    "        #print(prod)\n",
    "        if prod>max_product:\n",
    "            max_product=prod\n",
    "    return max_product",
    "\n",
    "#second solution\n",
    "def find_max_product_4_adjacents(n):\n",
    "    max_product=0\n",
    "    for i in range(0 , len(n)- 3 ):\n",
    "        # the final run will be : 99-98-97-96\n",     
    "        prod=int(n[i])*int(n[i+1]) *int(n[i+2])*int(n[i+3])\n",
    "        #print(prod)\n",
    "        if prod>max_product:\n",
    "            max_product=prod\n",
    "    return max_product\n"
   ]
  },
  {
   "cell_type": "code",
   "execution_count": 7,
   "id": "20a9b97c-71b9-408a-8a54-9a836f4f04af",
   "metadata": {},
   "outputs": [
    {
     "name": "stdout",
     "output_type": "stream",
     "text": [
      "15\n"
     ]
    }
   ],
   "source": [
    "mx_prod=find_max_product(14352)\n",
    "print(mx_prod)"
   ]
  },
  {
   "cell_type": "code",
   "execution_count": 8,
   "id": "91b7eebf-e65f-4a6b-8146-68bbb746e42d",
   "metadata": {},
   "outputs": [
    {
     "name": "stdout",
     "output_type": "stream",
     "text": [
      "the max product of 2 adjacents 100digits-number is :72\n"
     ]
    }
   ],
   "source": [
    "n2='731671765313306249192251' \\\n",
    "'196744265747423553491949349' \\\n",
    "'6983520312774506326239578318'\\\n",
    "'016984801869478851843'\n",
    "mx_prod=find_max_product(n2)\n",
    "print(f'the max product of 2 adjacents 100digits-number is :{mx_prod}')\n"
   ]
  },
  {
   "cell_type": "code",
   "execution_count": 9,
   "id": "5080196e-f88c-4f53-8407-ce56eafe7d3f",
   "metadata": {},
   "outputs": [
    {
     "name": "stdout",
     "output_type": "stream",
     "text": [
      "the max product of 4 adjacents 100digits-number is :3888\n"
     ]
    }
   ],
   "source": [
    "mx_prod2=find_max_product_4_adjacents(n2)\n",
    "print(f'the max product of 4 adjacents 100digits-number is :{mx_prod2}')\n"
   ]
  },
  {
   "cell_type": "markdown",
   "id": "4efa99b0-c34e-41b0-880f-5ab6a558acb8",
   "metadata": {},
   "source": [
    "## 4)[Assignment on list comprehension]For any given list of numbers (say list_01), write python code using list comprehension to separatethe list into two sub-lists containing even and odd numbers respectively. \n",
    "Test your code using thefollowing list and print the output.\n",
    "\n",
    "list_01 = [1,2,3,4,5,6,7,8,9]"
   ]
  },
  {
   "cell_type": "code",
   "execution_count": null,
   "id": "26765138-861d-451e-afdb-feedf09d19c3",
   "metadata": {},
   "outputs": [],
   "source": []
  },
  {
   "cell_type": "code",
   "execution_count": 10,
   "id": "25264a53-b715-4219-92d8-f95a54984241",
   "metadata": {},
   "outputs": [
    {
     "name": "stdout",
     "output_type": "stream",
     "text": [
      "[4, 5, 6, 7, 8, 9]\n"
     ]
    }
   ],
   "source": [
    "###code###\n",
    "list1 = [1,2,3,4,5,6,7,8,9]\n",
    "m=[i for i in list1 if i>3]\n",
    "print(m)"
   ]
  },
  {
   "cell_type": "code",
   "execution_count": 11,
   "id": "3e814840-a56f-4008-889e-d2c2c36b0a6d",
   "metadata": {},
   "outputs": [],
   "source": [
    "def sep_list_1(list1):    \n",
    "    l1=[i for i in list1 if (i%2)==0]\n",
    "    l2=[i for i in list1 if (i%2)!=0]\n",
    "    list1=[l1,l2]\n",
    "    return list1"
   ]
  },
  {
   "cell_type": "code",
   "execution_count": 12,
   "id": "e2dd1093-b602-4b13-970e-e23c3448e0ff",
   "metadata": {},
   "outputs": [
    {
     "name": "stdout",
     "output_type": "stream",
     "text": [
      "[[2, 4, 6, 8], [1, 3, 5, 7, 9]]\n"
     ]
    }
   ],
   "source": [
    "list1=sep_list_1(list1)\n",
    "print(list1)"
   ]
  },
  {
   "cell_type": "markdown",
   "id": "ac2070b7-8690-4364-b2cd-006bd5eb76da",
   "metadata": {},
   "source": [
    "## 5)Assignment on recursion]Write a recursive function that will reverses the given String. For example, if your function is given“copenhagen” as an input parameter then the function should return “negahnepoc”.\n",
    "Info:Please don’t use string reversing using indices (e.g.string[: : -1], but please write a recur-sive function."
   ]
  },
  {
   "cell_type": "code",
   "execution_count": 13,
   "id": "6d6583ea-2ed8-4dd3-9d19-48638ea75f52",
   "metadata": {},
   "outputs": [],
   "source": [
    "str1='copenhagen'"
   ]
  },
  {
   "cell_type": "code",
   "execution_count": 14,
   "id": "57a01c13-cb62-44be-aca8-3b6fa16bd54e",
   "metadata": {},
   "outputs": [],
   "source": [
    "def reversive_recursion(str1,k=-1):\n",
    "    print(str1[-k])    \n",
    "    if (abs(k)<len(str1)-1):\n",
    "          reversive_recursion(str1,k-1)    "
   ]
  },
  {
   "cell_type": "code",
   "execution_count": 15,
   "id": "d6584c35-84f4-45fe-bcbc-fab304b4a252",
   "metadata": {},
   "outputs": [
    {
     "name": "stdout",
     "output_type": "stream",
     "text": [
      "o\n",
      "p\n",
      "e\n",
      "n\n",
      "h\n",
      "a\n",
      "g\n",
      "e\n",
      "n\n"
     ]
    }
   ],
   "source": [
    "reversive_recursion(str1)"
   ]
  },
  {
   "cell_type": "markdown",
   "id": "ddabcb19-d5d8-459c-9e45-38634534f9dd",
   "metadata": {},
   "source": [
    "## 6)Assignment on dictionaries and strings]\n",
    "### A Given a word and a string of characters, find how many times over you can construct that word from the string of characters. For example, let us assume that you were given the word “pot” and string of characters “coptopstoprope”, then you can create “pot” only 2 times using the bold and red characters in “coptopstoprope”.\n",
    "\n",
    "Let’s assume that you are given the word “cat” and string \"ccgatcahctatttaaaaccctatcatastadfa\",then write a python program that can compute how many number of times the word “cat” can beconstructed from the string of characters.\n",
    "### B This question is nothing but a generalization of the problem above. Create a function that takes 2arguments: a word and a string of characters and it should return how many times over the wordcan be created using the letters from string of characters (each letter can only be used 1 time).Provide one test case to check your function works as intended (that is, give a word and a stringof your choosing and test your function).\n",
    "\n",
    "Info:Please note that the given word can contain a repeating character such as in word “caat”,please also keep such kind of scenarios in mind while writing the function."
   ]
  },
  {
   "cell_type": "code",
   "execution_count": 16,
   "id": "c841f225-7695-40ca-b99b-942fe0b2513d",
   "metadata": {},
   "outputs": [],
   "source": [
    "###code###"
   ]
  },
  {
   "cell_type": "code",
   "execution_count": 17,
   "id": "0c706b52-5661-41a5-95ad-9501fc397c09",
   "metadata": {},
   "outputs": [
    {
     "name": "stdout",
     "output_type": "stream",
     "text": [
      "True\n"
     ]
    }
   ],
   "source": [
    "word='cat'\n",
    "w2='cat'\n",
    "\n",
    "print(w2==word)"
   ]
  },
  {
   "cell_type": "code",
   "execution_count": 29,
   "id": "fa93e801-6739-43b6-ad16-c4fb52dd6e35",
   "metadata": {},
   "outputs": [
    {
     "name": "stdout",
     "output_type": "stream",
     "text": [
      "1\n"
     ]
    }
   ],
   "source": [
    "#A\n",
    "#check for word cat\n",
    "l1=[True,False,True]\n",
    "print(l1.count(False))\n"
   ]
  },
  {
   "cell_type": "code",
   "execution_count": 56,
   "id": "ed655df3-64e3-4c9a-9edc-c810a40ae632",
   "metadata": {},
   "outputs": [],
   "source": [
    "def str_check(triplet,word_to_check='cat'): \n",
    "    #this function checks if ALL the characters in our word is present in the triplet that we picked\n",
    "    #from the big string!-->each time we break the big-string to triplets-->triplet=3adjecent characters!\n",
    "    #if ch(character of our word) is note present so we return found=false-->no way to construct the word that we want!\n",
    "    found=True\n",
    "    for ch in word_to_check:\n",
    "        if ch!= triplet[0] and ch!=triplet[1] and ch!=triplet[2]:\n",
    "            found=False\n",
    "            #print('bad triplet!')\n",
    "    return found\n",
    "def string_check(str1,word_to_check='cat'):\n",
    "    #take as arguments str1-->string to check word with 3 cahracters!\n",
    "    times=0\n",
    "    i=0\n",
    "   \n",
    "    while (i<len(str1)-2):\n",
    "        #print(i)\n",
    "        str_to_check=str1[i]+str1[i+1]+str1[i+2]\n",
    "        #print(str_to_check)\n",
    "        found=str_check(str_to_check,word_to_check)\n",
    "        if found:\n",
    "            print(str_to_check)\n",
    "            times=times+1\n",
    "        i+=1\n",
    "    return times\n",
    "#-----------------------------------N characters word_to_check-------------\n",
    "def str_big_check(polaplet,word_to_check='cat'):     \n",
    "    found=True\n",
    "    for ch in word_to_check:\n",
    "        trues_found=[ch!=i for i in polaplet].count(True)#sum all times that character doesnt exist!\n",
    "        if trues_found==len(polaplet):#if character doesnt exist in all lentghts!\n",
    "            found=False\n",
    "            break\n",
    "    return found\n",
    "\n",
    "def string_bigger_check(str1,word_to_check='cat'):\n",
    "    #take as arguments str1-->string to check word with \"N\" characters!\n",
    "    times=0\n",
    "    i=0   \n",
    "    while (i<len(str1)-len(word_to_check)+1):       \n",
    "        #str_to_check=str1[i]+str1[i+1]+str1[i+2]\n",
    "        str_to_check=\"\".join([str1[i] for i in range(i,i+len(word_to_check))])\n",
    "        #print(str_to_check)\n",
    "        found=str_big_check(str_to_check,word_to_check)\n",
    "        if found:\n",
    "            print(str_to_check)\n",
    "            times=times+1\n",
    "        i+=1\n",
    "    return times"
   ]
  },
  {
   "cell_type": "code",
   "execution_count": 57,
   "id": "62c77da5-7b2d-40b5-ae66-2205771563b6",
   "metadata": {},
   "outputs": [
    {
     "name": "stdout",
     "output_type": "stream",
     "text": [
      "opt\n",
      "pto\n",
      "top\n",
      "top\n",
      "we can concstruct the word \"pot\" 4 times\n"
     ]
    }
   ],
   "source": [
    "how_many_times=string_check('coptopstoprope',word_to_check='pot')\n",
    "print(f'we can concstruct the word \"pot\" {how_many_times} times')\n"
   ]
  },
  {
   "cell_type": "code",
   "execution_count": 58,
   "id": "b67f0a45-fe2b-443e-9101-e365d9b5e34b",
   "metadata": {},
   "outputs": [
    {
     "name": "stdout",
     "output_type": "stream",
     "text": [
      "opt\n",
      "pto\n",
      "top\n",
      "top\n"
     ]
    }
   ],
   "source": [
    "how_many_times=string_check('coptopstoprope',word_to_check='pot')\n"
   ]
  },
  {
   "cell_type": "code",
   "execution_count": 59,
   "id": "299658c3-b113-44d3-acae-7c4937598ec8",
   "metadata": {},
   "outputs": [
    {
     "name": "stdout",
     "output_type": "stream",
     "text": [
      "atc\n",
      "tca\n",
      "cta\n",
      "cta\n",
      "atc\n",
      "tca\n",
      "cat\n",
      "we can concstruct the word \"cat\" 7 times\n"
     ]
    }
   ],
   "source": [
    "how_many_times=string_check(\"ccgatcahctatttaaaaccctatcatastadfa\",word_to_check='cat')\n",
    "print(f'we can concstruct the word \"cat\" {how_many_times} times')\n"
   ]
  },
  {
   "cell_type": "code",
   "execution_count": 60,
   "id": "ca54990f-5a5f-4b4e-924e-0bbaf6714902",
   "metadata": {},
   "outputs": [
    {
     "name": "stdout",
     "output_type": "stream",
     "text": [
      "atc\n",
      "tca\n",
      "cta\n",
      "cta\n",
      "atc\n",
      "tca\n",
      "cat\n",
      "we can concstruct the word \"cat\" 7 times\n"
     ]
    }
   ],
   "source": [
    "how_many_times2=string_bigger_check(\"ccgatcahctatttaaaaccctatcatastadfa\",word_to_check='cat')\n",
    "print(f'we can concstruct the word \"cat\" {how_many_times2} times')\n",
    "\n",
    "\n",
    "#check it here is wrong!!"
   ]
  },
  {
   "cell_type": "code",
   "execution_count": 62,
   "id": "f98c57f5-78a3-4936-8fd2-8046e0089933",
   "metadata": {},
   "outputs": [
    {
     "name": "stdout",
     "output_type": "stream",
     "text": [
      "jesus\n",
      "susje\n",
      "usjej\n",
      "sjeju\n",
      "jejus\n",
      "ejuse\n",
      "jusej\n",
      "usejs\n",
      "sjesu\n",
      "jesus\n",
      "ssuje\n",
      "we can concstruct the word \"jesus\" 11 times\n"
     ]
    }
   ],
   "source": [
    "word_to_check='jesus'\n",
    "how_many_times3=string_bigger_check(\"jesushollymoyleszghejflghsusjejusejsjesussuje\",word_to_check=word_to_check)\n",
    "\n",
    "print(f'we can concstruct the word \"{word_to_check}\" {how_many_times3} times')\n"
   ]
  },
  {
   "cell_type": "markdown",
   "id": "467e073b-7c0e-42e6-af44-28fa0c90a9cb",
   "metadata": {},
   "source": [
    "## 7)[Assignment on String Manipulation]Write a Python function that will separate the segments of characters and numbers with a given sep-arator of your choice from a given string. \n",
    "For example, let us say that we have a string: ”Copenhagenhosted Cop-09 summit at Bella Centre in 2009, which was attended by delegates from more than100 countries.”, the separator being “_” and then our function should return a tuple (like as follows)containing two strings, where the first string is a string containing extracted segments of charactersand second string containing extracted segments of numbers.\n",
    "string_to_parse = ’Copenhagen  hosted Cop -09  summit ’ \\’ at Bella  Centre  in 2009,  which ’ \\’ was  attended  by  delegates  from’ \\’ more  than  100  countries.’separator = ’_’tuple_to_be_returned = (’CopenhagenhostedCop_summit ’ \\’atBellaCentrein_whichwasattended ’ \\’bydelegatesfrommorethan_countries ’,’09 _2009_100 ’)list.pyWrite a python function that takes two strings as input and returns a tuple containing the extractedsegments of characters and numbers as indicated above duly appending the segments with separatoras indicated above.\n",
    "\n",
    "Info:Please note that you can ignore all the characters that neither English alphabets nor num-bers"
   ]
  },
  {
   "cell_type": "code",
   "execution_count": 34,
   "id": "f0b95a3e-4c63-4f29-a611-fc8d3a64f700",
   "metadata": {},
   "outputs": [],
   "source": [
    "###code\n"
   ]
  },
  {
   "cell_type": "code",
   "execution_count": 36,
   "id": "6217449e-efd4-4f5c-8be8-268f4817851f",
   "metadata": {},
   "outputs": [],
   "source": [
    "str2= 'Copenhagenhosted Cop-09 summit at Bella Centre in 2009, which was attended by delegates from more than 100 countries'"
   ]
  },
  {
   "cell_type": "code",
   "execution_count": 48,
   "id": "c3b2b415-2209-4c6a-9093-70be6656a7da",
   "metadata": {},
   "outputs": [
    {
     "data": {
      "text/plain": [
       "'CopenhagenhostedCop-09summitatBellaCentrein2009,whichwasattendedbydelegatesfrommorethan100countries'"
      ]
     },
     "execution_count": 48,
     "metadata": {},
     "output_type": "execute_result"
    }
   ],
   "source": []
  },
  {
   "cell_type": "code",
   "execution_count": 52,
   "id": "c19f192a-569f-4a00-8323-e4318ce3632b",
   "metadata": {},
   "outputs": [],
   "source": [
    "def seperator(string,sep='_'):\n",
    "    \n",
    "    string=string.replace(' ','')\n",
    "    number_list=''\n",
    "    word_list=''\n",
    "    is_previous_a_digit=False\n",
    "    is_previous_a_word=False\n",
    "    for i in str2:    \n",
    "        if i.isdigit():\n",
    "            number_list+=i\n",
    "            is_previous_a_digit=True\n",
    "        else:\n",
    "            word_list+=i\n",
    "            is_previous_a_word=True\n",
    "        if not i.isdigit() and is_previous_a_digit:\n",
    "            number_list+=sep\n",
    "            is_previous_a_digit=False\n",
    "        if i.isdigit() and is_previous_a_word:\n",
    "            word_list+=sep\n",
    "            is_previous_a_word=False\n",
    "        \n",
    "    return [word_list,number_list]       "
   ]
  },
  {
   "cell_type": "code",
   "execution_count": 53,
   "id": "e3a37fab-ad11-408a-b056-091d926be253",
   "metadata": {},
   "outputs": [
    {
     "name": "stdout",
     "output_type": "stream",
     "text": [
      "['Copenhagenhosted Cop-_ summit at Bella Centre in _, which was attended by delegates from more than _ countries', '09_2009_100_']\n"
     ]
    }
   ],
   "source": [
    "l=seperator(str2)\n",
    "print(l)"
   ]
  },
  {
   "cell_type": "markdown",
   "id": "d78c055a-b1a6-4d77-8a95-a3b5d9aaa3f8",
   "metadata": {},
   "source": [
    "### proxeiro!"
   ]
  },
  {
   "cell_type": "code",
   "execution_count": null,
   "id": "e957b269-0667-44c6-9a97-4d37c0c6e9ac",
   "metadata": {},
   "outputs": [],
   "source": [
    "def str_check(str1,word='cat'):\n",
    "    found=False\n",
    "    c1=word[0]\n",
    "    c2=word[1]\n",
    "    c3=word[3]\n",
    "    for i in str1:\n",
    "        if i==len(str1-4)\n",
    "        break\n",
    "        if str1[i] == c1 or str1[i] == c2 or str1[i] == c3:\n",
    "            if str1[i+1] == c1 or str1[i+1] == c2 or str1[i+1] == c3:\n",
    "                if str1[i+2] == c1 or str1[i+2] == c2 or str1[i+2] == c3:\n",
    "    return found\n",
    "    \n",
    "def str_check(str3,word='cat'): \n",
    "    found=False\n",
    "    j=0\n",
    "    for n,i in enumerate(word):\n",
    "        if str3[0]!=i and str3[1]!=i and str3[2]!=i:\n",
    "            return found\n",
    "        \n",
    "        \n",
    "    \n",
    "    found=False\n",
    "    c1=word[0]\n",
    "    c2=word[1]\n",
    "    c3=word[3]\n",
    "    for i in str1:\n",
    "        if i==len(str1-4)\n",
    "        break"
   ]
  },
  {
   "cell_type": "code",
   "execution_count": null,
   "id": "e3516778-56c2-4b80-97ff-24b3441d9ab8",
   "metadata": {},
   "outputs": [],
   "source": [
    "str2=''\n",
    "str2=str2+'a'\n",
    "str2=str2+'w'\n",
    "print(str2)"
   ]
  },
  {
   "cell_type": "code",
   "execution_count": null,
   "id": "fcc30e27-15e0-45a0-83e3-8c7c43fd9e67",
   "metadata": {},
   "outputs": [],
   "source": [
    "str2='avfgh'\n",
    "str3=[str2[i] for i in range(3)]\n",
    "str3=\"\".join(str3)\n",
    "print(str3)"
   ]
  },
  {
   "cell_type": "code",
   "execution_count": null,
   "id": "208d937b-9792-4203-aa98-17f6de9bb5db",
   "metadata": {},
   "outputs": [],
   "source": [
    "def pr_recursive(n):\n",
    "    print(n)\n",
    "    if n<5:       \n",
    "        pr_recursive(n+1)\n",
    "def reversive_recursion():\n"
   ]
  },
  {
   "cell_type": "code",
   "execution_count": null,
   "id": "d6b0f99e-d738-42e7-a16f-5c4fb6982c56",
   "metadata": {},
   "outputs": [],
   "source": [
    "str2.replace(' ','')"
   ]
  },
  {
   "cell_type": "code",
   "execution_count": 51,
   "id": "bcb971ae-64d6-40ef-97c5-10672c8b6570",
   "metadata": {},
   "outputs": [
    {
     "name": "stdout",
     "output_type": "stream",
     "text": [
      "09_2009_100_\n"
     ]
    }
   ],
   "source": [
    "number_list=''\n",
    "sep='_'\n",
    "is_previous_a_digit=False\n",
    "for i in str2:    \n",
    "    if i.isdigit():\n",
    "        number_list+=i\n",
    "        is_previous_a_digit=True\n",
    "    if not i.isdigit() and is_previous_a_digit:\n",
    "        number_list+=sep\n",
    "        is_previous_a_digit=False\n",
    "        \n",
    "        \n",
    "print(number_list)"
   ]
  },
  {
   "cell_type": "code",
   "execution_count": null,
   "id": "0dfbab61-5ea9-4162-b547-190aa35e4eb1",
   "metadata": {},
   "outputs": [],
   "source": []
  }
 ],
 "metadata": {
  "kernelspec": {
   "display_name": "Python 3 (ipykernel)",
   "language": "python",
   "name": "python3"
  },
  "language_info": {
   "codemirror_mode": {
    "name": "ipython",
    "version": 3
   },
   "file_extension": ".py",
   "mimetype": "text/x-python",
   "name": "python",
   "nbconvert_exporter": "python",
   "pygments_lexer": "ipython3",
   "version": "3.8.10"
  }
 },
 "nbformat": 4,
 "nbformat_minor": 5
}
